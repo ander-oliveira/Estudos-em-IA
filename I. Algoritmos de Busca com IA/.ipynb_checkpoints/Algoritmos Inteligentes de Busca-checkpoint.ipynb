{
 "cells": [
  {
   "cell_type": "markdown",
   "id": "c989a555",
   "metadata": {},
   "source": [
    "# 1. Resolução de Problemas por meio de Busca"
   ]
  },
  {
   "cell_type": "markdown",
   "id": "beb5a76a",
   "metadata": {},
   "source": [
    "## 1.1 Conceito de Problema"
   ]
  },
  {
   "cell_type": "markdown",
   "id": "ab45ea5e",
   "metadata": {},
   "source": [
    "Iremos tratar de forma introdutória o conceito e os componentes de um problema em Inteligência Artificial.\n",
    "Dentre os elementos que compõem um problema, temos:\n",
    "\n",
    "* **Estado Inicial:** é o estado em que um agente se encontra em um determinado momento.\n",
    "* **Estado Final (Objetivo):** é o estado onde se quer chegar.\n",
    "* **Espaço de Estados:** é o conjunto de estados que se encontram entre o Estado Inicial e o Estado Final. Temos entre estes dois uma série de caminhos a serem tomados. O espaço de estados compreende quais deles iremos tomar para resolver o problema.\n",
    "* **Ações:** que faz com que o agente passe de um estado para o outro. Este executa uma ação que o faz mudar de estado.\n",
    "* **Solução:** neste caso é o caminho que leva um agente do estado inicial para o final.\n",
    "\n",
    "Na **Figura 1** temos como  *Estado Inicial* o quadrado (2,0); como *Estado Final* o quadrado (0,3) e o *Espaço de Estados* todos os outros (exceto a barreira representada em (1,1)).\n",
    "\n",
    "> Um algoritmo de busca inteligente busca encontrar qual o melhor caminho que está no espaço de estados para se chegar de um estado inicial até um estado final.\n",
    "\n",
    "| ![problem](img/problema-1.png) |\n",
    "|:--:|\n",
    "| <b>Figura 1 - Representação de Estados em um cenário.</b>|\n",
    "\n",
    "> É importante salientar que, independente do problema que estamos tratando, temos os elementos citados anteriormente.\n",
    "\n",
    "A **Figura 2** mostra uma *árvore de busca* com os caminhos possíveis para alcançar o estado final da **Figura 1** partindo do estado inicial. Note que cada estado é expandido com os estados alcançáveis a partir dele.\n",
    "\n",
    "| ![resolucao](img/resolução-1.png) |\n",
    "|:--:|\n",
    "| <b>Figura 2 - Caminhos existentes entre o estado inicial e o final.</b>|"
   ]
  },
  {
   "cell_type": "markdown",
   "id": "beb05aed",
   "metadata": {},
   "source": [
    "## 1.2 Implementação de um Problema - Mapa de Cidades\n",
    "\n",
    "Vamos tratar nessa seção a implementação do mapa ilustrado na **Figura 3**, que contém algumas cidades da Romênia. Salientamos que o exemplo aqui ilustrado foi retirado do livro: *Artificial Intelligence: A Modern Approach*, de Peter Norvig e Stuart Russell, 3ª edição. \n",
    "\n",
    "| ![mapa](img/mapa-1.PNG) |\n",
    "|:--:|\n",
    "| <b>Figura 3 - Mapa parcial de cidades da Romênia.</b>|\n",
    "\n",
    "Na implementação vamos representar as cidades e suas ligações. A classe Cidade contém como atributos nome (que é o nome de uma cidade), visitado que inicialmente é definido como False (posteriormente será utilizado para o algoritmo de busca a fim de controlar se um estado foi visitado ou não para evitar que este seja visitado novamente) e uma lista de cidades adjacentes (vizinhas) a esta cidade. Tomando a figura anterior, a cidade **Arad** tem como cidades adjacentes: [Zerind, Timisoara, Sibiu]. O método *addCidadeAdjacente* simplesmente cria a ligação entre uma cidade e outra, preenchendo a lista desta cidade com suas cidades vizinhas (adjacentes). Para isto, temos a classe Adjacente. Ela será utilizada toda vez que quisermos fazer a ligação de uma cidade a outra. A lista de adjacentes de um objeto da classe Cidade terá como elementos um objeto da classe Adjacente. Futuramente esta classe será reutilizada quando tratarmos de algoritmos de busca com heurística."
   ]
  },
  {
   "cell_type": "code",
   "execution_count": 1,
   "id": "e0f73766",
   "metadata": {},
   "outputs": [],
   "source": [
    "class Cidade:\n",
    "    def __init__(self, nome):\n",
    "        self.nome = nome\n",
    "        self.visitado = False\n",
    "        self.adjacentes = []\n",
    "    \n",
    "    def addCidadeAdjacente(self, cidade):\n",
    "        self.adjacentes.append(cidade)"
   ]
  },
  {
   "cell_type": "code",
   "execution_count": 2,
   "id": "4e57ed60",
   "metadata": {},
   "outputs": [],
   "source": [
    "class Adjacente:\n",
    "    def __init__(self, cidade):\n",
    "        self.cidade = cidade"
   ]
  },
  {
   "cell_type": "markdown",
   "id": "d6519cab",
   "metadata": {},
   "source": [
    "A classe a seguir implementa o mapa da Figura 3, criando as cidades e fazendo as ligações necessárias."
   ]
  },
  {
   "cell_type": "code",
   "execution_count": 3,
   "id": "9139eec7",
   "metadata": {},
   "outputs": [],
   "source": [
    "class Mapa:\n",
    "    oradea = Cidade(\"Oradea\")\n",
    "    zerind = Cidade(\"Zerind\")\n",
    "    arad = Cidade(\"Arad\")\n",
    "    timisoara = Cidade(\"Timisoara\")\n",
    "    lugoj = Cidade(\"Lugoj\")\n",
    "    mehadia = Cidade(\"Mehadia\")\n",
    "    drobeta = Cidade(\"Drobeta\")\n",
    "    sibiu = Cidade(\"Sibiu\")\n",
    "    rimnicu_vilcea = Cidade(\"Rimnicu Vilcea\")\n",
    "    craiova = Cidade(\"Craiova\")\n",
    "    pitesti = Cidade(\"Pitesti\")\n",
    "    fagaras = Cidade(\"Fagatas\")\n",
    "    giurgiu = Cidade(\"Giurgiu\")\n",
    "    bucharest = Cidade(\"Bucharest\")\n",
    "    urziceni = Cidade(\"Urziceni\")\n",
    "    hirsova = Cidade(\"Hirsova\")\n",
    "    eforie = Cidade(\"Eforie\")\n",
    "    vaslui = Cidade(\"Vaslui\")\n",
    "    iasi = Cidade(\"Iasi\")\n",
    "    neamt = Cidade(\"Neamt\")\n",
    "    \n",
    "    oradea.addCidadeAdjacente(Adjacente(zerind))\n",
    "    oradea.addCidadeAdjacente(Adjacente(sibiu))\n",
    "    zerind.addCidadeAdjacente(Adjacente(arad))\n",
    "    arad.addCidadeAdjacente(Adjacente(sibiu))\n",
    "    arad.addCidadeAdjacente(Adjacente(timisoara))\n",
    "    timisoara.addCidadeAdjacente(Adjacente(lugoj))\n",
    "    lugoj.addCidadeAdjacente(Adjacente(mehadia))\n",
    "    mehadia.addCidadeAdjacente(Adjacente(drobeta))\n",
    "    drobeta.addCidadeAdjacente(Adjacente(craiova))\n",
    "    sibiu.addCidadeAdjacente(Adjacente(fagaras))\n",
    "    rimnicu_vilcea.addCidadeAdjacente(Adjacente(craiova))\n",
    "    rimnicu_vilcea.addCidadeAdjacente(Adjacente(pitesti))\n",
    "    craiova.addCidadeAdjacente(Adjacente(pitesti))\n",
    "    bucharest.addCidadeAdjacente(Adjacente(pitesti))\n",
    "    fagaras.addCidadeAdjacente(Adjacente(pitesti))\n",
    "    bucharest.addCidadeAdjacente(Adjacente(giurgiu))\n",
    "    bucharest.addCidadeAdjacente(Adjacente(urziceni))\n",
    "    bucharest.addCidadeAdjacente(Adjacente(fagaras))\n",
    "    hirsova.addCidadeAdjacente(Adjacente(urziceni))\n",
    "    hirsova.addCidadeAdjacente(Adjacente(eforie))\n",
    "    vaslui.addCidadeAdjacente(Adjacente(urziceni))\n",
    "    vaslui.addCidadeAdjacente(Adjacente(iasi))\n",
    "    neamt.addCidadeAdjacente(Adjacente(iasi))"
   ]
  },
  {
   "cell_type": "code",
   "execution_count": 4,
   "id": "73ed93b5",
   "metadata": {},
   "outputs": [],
   "source": [
    "mapa = Mapa()"
   ]
  },
  {
   "cell_type": "markdown",
   "id": "c9df51e6",
   "metadata": {},
   "source": [
    "Temos aqui um exemplo da impressão das cidades adjacentes (vizinhas) a *Bucharest*."
   ]
  },
  {
   "cell_type": "code",
   "execution_count": 13,
   "id": "0698f3fc",
   "metadata": {},
   "outputs": [
    {
     "name": "stdout",
     "output_type": "stream",
     "text": [
      "Pitesti\n",
      "Giurgiu\n",
      "Urziceni\n",
      "Fagatas\n"
     ]
    }
   ],
   "source": [
    "for i in range(len(mapa.bucharest.adjacentes)):\n",
    "    print(mapa.bucharest.adjacentes[i].cidade.nome)"
   ]
  },
  {
   "cell_type": "markdown",
   "id": "eb9680b3",
   "metadata": {},
   "source": [
    "# 2. Busca sem Informação"
   ]
  },
  {
   "cell_type": "markdown",
   "id": "eab571a0",
   "metadata": {},
   "source": [
    "A Busca sem Informação (também chamada de Busca Cega ou Busca Aleatória) um tipo de busca que não utiliza inteligência. Não há qualquer informação adicional que auxilie o processo de busca, ou seja, não leva em consideração informações sobre o problema. Vamos utilizar a estrutura de **Pilha** que servirá para a implementação do algoritmo de *Busca em Profundidade* e a estrutura de **Fila** para a implementação do algoritmo de *Busca em Largura*.\n",
    "\n",
    "Os algoritmos deste tipo de busca não sabem exatamente por onde tem que ir, partindo do estado inicial até o estado final, pois ele não possui informações sobre o problema.\n",
    "\n",
    "* **Fronteira do Espaço de Estados:** indica quais estados foram expandidos no espaço de estados. No mapa desta seção, suponhamos que queremos ir de *Arad* até *Bucharest*. O espaço de estados compreeende todas as cidades que estão entre o estado inicial (Arad) e o estado final (Bucharest). A fronteira seriam todas as cidades que foram expandidas neste espaço de estados."
   ]
  },
  {
   "cell_type": "markdown",
   "id": "116b3133",
   "metadata": {},
   "source": [
    "Temos a seguir um algoritmo genérico de busca sem informação:\n",
    "\n",
    "**Algoritmo:**\n",
    "- Atribuir à fronteira (armazena quais cidades serão visitadas; cidades que são adjacentes) o estado inicial.\n",
    "1. Selecionar o primeiro nó da fronteira do espaço de estado.\n",
    "2. Testar se o nó é um estado final (objetivo)\n",
    "    - Caso sim, a busca termina com sucesso\n",
    "3. Gerar um novo conjunto de estados (são as cidades que fazem fronteira)\n",
    "4. Inserir os nós gerados na fronteira e voltar ao passo 1."
   ]
  },
  {
   "cell_type": "markdown",
   "id": "a953b3cd",
   "metadata": {},
   "source": [
    "> O que diferencia a Busca em Profundidade da Busca em Largura é a estrutura de dados utilizada na fronteira. Veremos com mais detalhes essas estruturas nas subseções seguintes."
   ]
  },
  {
   "cell_type": "markdown",
   "id": "beceeee4",
   "metadata": {},
   "source": [
    "## 2.1 Pilha\n",
    "\n",
    "São estruturas de dados do tipo LIFO (*last-in first-out*), onde o último elemento a ser inserido, será o primeiro a ser retirado. Assim, uma pilha permite acesso a apenas um item de dados - o último inserido. Para processar o penúltimo item inserido, deve-se remover o último. Note que a Figura 4 ilustra esse conceito de Pilha e as operações básicas que podem ser aplicadas sobre essa estrutura."
   ]
  },
  {
   "cell_type": "markdown",
   "id": "55280dab",
   "metadata": {},
   "source": [
    "| ![pilha](img/stack.png) |\n",
    "|:--:|\n",
    "| <b>Figura 4 - Exemplo de uma Pilha e suas operações básicas.</b>|"
   ]
  },
  {
   "cell_type": "markdown",
   "id": "1cb3da0b",
   "metadata": {},
   "source": [
    "A Pilha desta forma permite o acesso apenas ao último item inserido, ou seja, o topo da pilha. Se o último item for removido, o item anterior ao último inserido poderá ser acessado. As operações que podem ser aplicadas sobre as Pilhas são:\n",
    "* **Empilhar:** coloca um item de dados no topo da pilha.\n",
    "* **Desempilhar:** remove um item de dados do topo da pilha.\n",
    "* **Ver topo:** mostra o elemento que está no topo da pilha."
   ]
  },
  {
   "cell_type": "markdown",
   "id": "ea8f7445",
   "metadata": {},
   "source": [
    "Vamos realizar a implementação de uma Pilha em Python com suas operações elementares."
   ]
  },
  {
   "cell_type": "code",
   "execution_count": 17,
   "id": "c0cc6d9d",
   "metadata": {},
   "outputs": [],
   "source": [
    "class Pilha:\n",
    "    def __init__(self, tamanho):\n",
    "        self.tamanho = tamanho\n",
    "        self.cidades = [Nome] * self.tamanho\n",
    "        self.topo = -1\n",
    "    \n",
    "    def empilhar(self, cidade):\n",
    "        if not Pilha.pilhaCheia(self):\n",
    "            self.topo += 1\n",
    "            self.cidades[self.topo] = cidade\n",
    "        else:\n",
    "            print(\"A Pilha já está cheia.\")\n",
    "    \n",
    "    def desempilhar(self):\n",
    "        if not Pilha.pilhaVazia(self):\n",
    "            temp = self.cidades[self.topo]\n",
    "            self.topo -= 1\n",
    "            return temp\n",
    "        else:\n",
    "            print(\"A Pilha já está vazia.\")\n",
    "            return None\n",
    "    \n",
    "    def getTopo(self):\n",
    "        return self.cidades[self.topo]\n",
    "    \n",
    "    def pilhaVazia(self):\n",
    "        return (self.topo == -1)\n",
    "    \n",
    "    def pilhaCheia(self):\n",
    "        return (self.topo == tamanho-1)"
   ]
  },
  {
   "cell_type": "markdown",
   "id": "3625dade",
   "metadata": {},
   "source": [
    "## 2.2 Busca em Profundidade\n",
    "\n",
    "bla bla bla"
   ]
  },
  {
   "cell_type": "code",
   "execution_count": null,
   "id": "9c453575",
   "metadata": {},
   "outputs": [],
   "source": []
  }
 ],
 "metadata": {
  "kernelspec": {
   "display_name": "Python 3",
   "language": "python",
   "name": "python3"
  },
  "language_info": {
   "codemirror_mode": {
    "name": "ipython",
    "version": 3
   },
   "file_extension": ".py",
   "mimetype": "text/x-python",
   "name": "python",
   "nbconvert_exporter": "python",
   "pygments_lexer": "ipython3",
   "version": "3.8.8"
  }
 },
 "nbformat": 4,
 "nbformat_minor": 5
}
