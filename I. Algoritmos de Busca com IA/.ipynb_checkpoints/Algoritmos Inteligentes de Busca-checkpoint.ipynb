{
 "cells": [
  {
   "cell_type": "markdown",
   "id": "beb5a76a",
   "metadata": {},
   "source": [
    "## 1.1 Conceito de Problema"
   ]
  },
  {
   "cell_type": "markdown",
   "id": "ab45ea5e",
   "metadata": {},
   "source": [
    "Iremos tratar de forma introdutória o conceito e os componentes de um problema em Inteligência Artificial.\n",
    "Dentre os elementos que compõem um problema, temos:\n",
    "\n",
    "* **Estado Inicial:** é o estado em que um agente se encontra em um determinado momento.\n",
    "* **Estado Final (Objetivo):** é o estado onde se quer chegar.\n",
    "* **Espaço de Estados:** é o conjunto de estados que se encontram entre o Estado Inicial e o Estado Final. Temos entre estes dois uma série de caminhos a serem tomados. O espaço de estados compreende quais deles iremos tomar para resolver o problema.\n",
    "* **Ações:** que faz com que o agente passe de um estado para o outro. Este executa uma ação que o faz mudar de estado.\n",
    "* **Solução:** neste caso é o caminho que leva um agente do estado inicial para o final.\n",
    "\n",
    "Na **Figura 1** temos como  *Estado Inicial* o quadrado (2,0); como *Estado Final* o quadrado (0,3) e o *Espaço de Estados* todos os outros (exceto a barreira representada em (1,1)).\n",
    "\n",
    "> Um algoritmo de busca inteligente busca encontrar qual o melhor caminho que está no espaço de estados para se chegar de um estado inicial até um estado final.\n",
    "\n",
    "| ![problem](img/problema-1.png) |\n",
    "|:--:|\n",
    "| <b>Figura 1 - Representação de Estados em um cenário.</b>|\n",
    "\n",
    "> É importante salientar que, independente do problema que estamos tratando, temos os elementos citados anteriormente.\n",
    "\n",
    "A **Figura 2** mostra uma *árvore de busca* com os caminhos possíveis para alcançar o estado final da **Figura 1** partindo do estado inicial. Note que cada estado é expandido com os estados alcançáveis a partir dele.\n",
    "\n",
    "| ![resolucao](img/resolução-1.png) |\n",
    "|:--:|\n",
    "| <b>Figura 2 - Caminhos existentes entre o estado inicial e o final.</b>|"
   ]
  },
  {
   "cell_type": "markdown",
   "id": "ba058538",
   "metadata": {},
   "source": [
    "## 1.2 Implementação de um Problema - Mapa de Cidades\n",
    "\n",
    "Vamos tratar nessa seção a implementação do mapa ilustrado na **Figura 3**, que contém algumas cidades da Romênia. Salientamos que o exemplo aqui ilustrado foi retirado do livro: *Artificial Intelligence: A Modern Approach*, de Peter Norvig e Stuart Russell, 3ª edição. \n",
    "\n",
    "| ![mapa](img/mapa-1.png) |\n",
    "|:--:|\n",
    "| <b>Figura 3 - Mapa parcial de cidades da Romênia.</b>|\n",
    "\n",
    "Na implementação vamos representar as cidades e suas ligações."
   ]
  },
  {
   "cell_type": "code",
   "execution_count": 14,
   "id": "b030ba05",
   "metadata": {},
   "outputs": [],
   "source": [
    "class Cidade:\n",
    "    def __init__(self, nome):\n",
    "        self.nome = nome\n",
    "        self.visitado = False\n",
    "        self.adjacentes = []"
   ]
  }
 ],
 "metadata": {
  "kernelspec": {
   "display_name": "Python 3",
   "language": "python",
   "name": "python3"
  },
  "language_info": {
   "codemirror_mode": {
    "name": "ipython",
    "version": 3
   },
   "file_extension": ".py",
   "mimetype": "text/x-python",
   "name": "python",
   "nbconvert_exporter": "python",
   "pygments_lexer": "ipython3",
   "version": "3.8.8"
  }
 },
 "nbformat": 4,
 "nbformat_minor": 5
}
