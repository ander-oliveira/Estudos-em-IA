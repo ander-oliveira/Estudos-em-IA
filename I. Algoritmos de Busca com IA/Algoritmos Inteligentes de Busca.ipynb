{
 "cells": [
  {
   "cell_type": "markdown",
   "id": "c989a555",
   "metadata": {},
   "source": [
    "# 1. Resolução de Problemas por meio de Busca"
   ]
  },
  {
   "cell_type": "markdown",
   "id": "beb5a76a",
   "metadata": {},
   "source": [
    "## 1.1 Conceito de Problema"
   ]
  },
  {
   "cell_type": "markdown",
   "id": "ab45ea5e",
   "metadata": {},
   "source": [
    "Iremos tratar de forma introdutória o conceito e os componentes de um problema em Inteligência Artificial.\n",
    "Dentre os elementos que compõem um problema, temos:\n",
    "\n",
    "* **Estado Inicial:** é o estado em que um agente se encontra em um determinado momento.\n",
    "* **Estado Final (Objetivo):** é o estado onde se quer chegar.\n",
    "* **Espaço de Estados:** é o conjunto de estados que se encontram entre o Estado Inicial e o Estado Final. Temos entre estes dois uma série de caminhos a serem tomados. O espaço de estados compreende quais deles iremos tomar para resolver o problema.\n",
    "* **Ações:** que faz com que o agente passe de um estado para o outro. Este executa uma ação que o faz mudar de estado.\n",
    "* **Solução:** neste caso é o caminho que leva um agente do estado inicial para o final.\n",
    "\n",
    "Na **Figura 1** temos como  *Estado Inicial* o quadrado (2,0); como *Estado Final* o quadrado (0,3) e o *Espaço de Estados* todos os outros (exceto a barreira representada em (1,1)).\n",
    "\n",
    "> Um algoritmo de busca inteligente busca encontrar qual o melhor caminho que está no espaço de estados para se chegar de um estado inicial até um estado final.\n",
    "\n",
    "| ![problem](img/problema-1.png) |\n",
    "|:--:|\n",
    "| <b>Figura 1 - Representação de Estados em um cenário.</b>|\n",
    "\n",
    "> É importante salientar que, independente do problema que estamos tratando, temos os elementos citados anteriormente.\n",
    "\n",
    "A **Figura 2** mostra uma *árvore de busca* com os caminhos possíveis para alcançar o estado final da **Figura 1** partindo do estado inicial. Note que cada estado é expandido com os estados alcançáveis a partir dele.\n",
    "\n",
    "| ![resolucao](img/resolução-1.png) |\n",
    "|:--:|\n",
    "| <b>Figura 2 - Caminhos existentes entre o estado inicial e o final.</b>|"
   ]
  },
  {
   "cell_type": "markdown",
   "id": "beb05aed",
   "metadata": {},
   "source": [
    "## 1.2 Implementação de um Problema - Mapa de Cidades\n",
    "\n",
    "Vamos tratar nessa seção a implementação do mapa ilustrado na **Figura 3**, que contém algumas cidades da Romênia. Salientamos que o exemplo aqui ilustrado foi retirado do livro: *Artificial Intelligence: A Modern Approach*, de Peter Norvig e Stuart Russell, 3ª edição. \n",
    "\n",
    "| ![mapa](img/mapa-1.PNG) |\n",
    "|:--:|\n",
    "| <b>Figura 3 - Mapa parcial de cidades da Romênia.</b>|\n",
    "\n",
    "Na implementação vamos representar as cidades e suas ligações. A classe Cidade contém como atributos nome (que é o nome de uma cidade), visitado que inicialmente é definido como False (posteriormente será utilizado para o algoritmo de busca a fim de controlar se um estado foi visitado ou não para evitar que este seja visitado novamente) e uma lista de cidades adjacentes (vizinhas) a esta cidade. Tomando a figura anterior, a cidade **Arad** tem como cidades adjacentes: [Zerind, Timisoara, Sibiu]. O método *addCidadeAdjacente* simplesmente cria a ligação entre uma cidade e outra, preenchendo a lista desta cidade com suas cidades vizinhas (adjacentes). Para isto, temos a classe Adjacente. Ela será utilizada toda vez que quisermos fazer a ligação de uma cidade a outra. A lista de adjacentes de um objeto da classe Cidade terá como elementos um objeto da classe Adjacente. Futuramente esta classe será reutilizada quando tratarmos de algoritmos de busca com heurística."
   ]
  },
  {
   "cell_type": "code",
   "execution_count": 22,
   "id": "e0f73766",
   "metadata": {},
   "outputs": [],
   "source": [
    "class Cidade:\n",
    "    def __init__(self, nome):\n",
    "        self.nome = nome\n",
    "        self.visitado = False\n",
    "        self.adjacentes = []\n",
    "    \n",
    "    def addCidadeAdjacente(self, cidade):\n",
    "        self.adjacentes.append(cidade)"
   ]
  },
  {
   "cell_type": "code",
   "execution_count": 23,
   "id": "4e57ed60",
   "metadata": {},
   "outputs": [],
   "source": [
    "class Adjacente:\n",
    "    def __init__(self, cidade):\n",
    "        self.cidade = cidade"
   ]
  },
  {
   "cell_type": "markdown",
   "id": "d6519cab",
   "metadata": {},
   "source": [
    "A classe a seguir implementa o mapa da Figura 3, criando as cidades e fazendo as ligações necessárias."
   ]
  },
  {
   "cell_type": "code",
   "execution_count": 31,
   "id": "9139eec7",
   "metadata": {},
   "outputs": [],
   "source": [
    "class Mapa:\n",
    "    oradea = Cidade(\"Oradea\")\n",
    "    zerind = Cidade(\"Zerind\")\n",
    "    arad = Cidade(\"Arad\")\n",
    "    timisoara = Cidade(\"Timisoara\")\n",
    "    lugoj = Cidade(\"Lugoj\")\n",
    "    mehadia = Cidade(\"Mehadia\")\n",
    "    drobeta = Cidade(\"Drobeta\")\n",
    "    sibiu = Cidade(\"Sibiu\")\n",
    "    rimnicu_vilcea = Cidade(\"Rimnicu Vilcea\")\n",
    "    craiova = Cidade(\"Craiova\")\n",
    "    pitesti = Cidade(\"Pitesti\")\n",
    "    fagaras = Cidade(\"Fagatas\")\n",
    "    giurgiu = Cidade(\"Giurgiu\")\n",
    "    bucharest = Cidade(\"Bucharest\")\n",
    "    urziceni = Cidade(\"Urziceni\")\n",
    "    hirsova = Cidade(\"Hirsova\")\n",
    "    eforie = Cidade(\"Eforie\")\n",
    "    vaslui = Cidade(\"Vaslui\")\n",
    "    iasi = Cidade(\"Iasi\")\n",
    "    neamt = Cidade(\"Neamt\")\n",
    "    \n",
    "    oradea.addCidadeAdjacente(Adjacente(zerind))\n",
    "    oradea.addCidadeAdjacente(Adjacente(sibiu))\n",
    "    zerind.addCidadeAdjacente(Adjacente(arad))\n",
    "    arad.addCidadeAdjacente(Adjacente(sibiu))\n",
    "    arad.addCidadeAdjacente(Adjacente(timisoara))\n",
    "    timisoara.addCidadeAdjacente(Adjacente(lugoj))\n",
    "    lugoj.addCidadeAdjacente(Adjacente(mehadia))\n",
    "    mehadia.addCidadeAdjacente(Adjacente(drobeta))\n",
    "    drobeta.addCidadeAdjacente(Adjacente(craiova))\n",
    "    sibiu.addCidadeAdjacente(Adjacente(fagaras))\n",
    "    rimnicu_vilcea.addCidadeAdjacente(Adjacente(craiova))\n",
    "    rimnicu_vilcea.addCidadeAdjacente(Adjacente(pitesti))\n",
    "    craiova.addCidadeAdjacente(Adjacente(pitesti))\n",
    "    bucharest.addCidadeAdjacente(Adjacente(pitesti))\n",
    "    fagaras.addCidadeAdjacente(Adjacente(pitesti))\n",
    "    bucharest.addCidadeAdjacente(Adjacente(giurgiu))\n",
    "    bucharest.addCidadeAdjacente(Adjacente(urziceni))\n",
    "    hirsova.addCidadeAdjacente(Adjacente(urziceni))\n",
    "    hirsova.addCidadeAdjacente(Adjacente(eforie))\n",
    "    vaslui.addCidadeAdjacente(Adjacente(urziceni))\n",
    "    vaslui.addCidadeAdjacente(Adjacente(iasi))\n",
    "    neamt.addCidadeAdjacente(Adjacente(iasi))"
   ]
  },
  {
   "cell_type": "code",
   "execution_count": 41,
   "id": "73ed93b5",
   "metadata": {},
   "outputs": [],
   "source": [
    "mapa = Mapa()"
   ]
  },
  {
   "cell_type": "markdown",
   "id": "c9df51e6",
   "metadata": {},
   "source": [
    "Temos aqui um exemplo da impressão das cidades adjacentes (vizinhas) a *Bucharest*."
   ]
  },
  {
   "cell_type": "code",
   "execution_count": 42,
   "id": "0698f3fc",
   "metadata": {},
   "outputs": [
    {
     "name": "stdout",
     "output_type": "stream",
     "text": [
      "Pitesti\n",
      "Giurgiu\n",
      "Urziceni\n"
     ]
    }
   ],
   "source": [
    "for i in range(len(mapa.bucharest.adjacentes)):\n",
    "    print(mapa.bucharest.adjacentes[i].cidade.nome)"
   ]
  },
  {
   "cell_type": "markdown",
   "id": "eb9680b3",
   "metadata": {},
   "source": [
    "# 2. Busca sem Informação"
   ]
  },
  {
   "cell_type": "code",
   "execution_count": null,
   "id": "a9adf4a9",
   "metadata": {},
   "outputs": [],
   "source": []
  }
 ],
 "metadata": {
  "kernelspec": {
   "display_name": "Python 3",
   "language": "python",
   "name": "python3"
  },
  "language_info": {
   "codemirror_mode": {
    "name": "ipython",
    "version": 3
   },
   "file_extension": ".py",
   "mimetype": "text/x-python",
   "name": "python",
   "nbconvert_exporter": "python",
   "pygments_lexer": "ipython3",
   "version": "3.8.8"
  }
 },
 "nbformat": 4,
 "nbformat_minor": 5
}
