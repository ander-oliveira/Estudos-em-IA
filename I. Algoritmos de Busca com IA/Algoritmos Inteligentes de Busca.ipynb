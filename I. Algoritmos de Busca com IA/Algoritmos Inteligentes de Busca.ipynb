{
 "cells": [
  {
   "cell_type": "markdown",
   "id": "c989a555",
   "metadata": {},
   "source": [
    "# 1. Resolução de Problemas por meio de Busca"
   ]
  },
  {
   "cell_type": "markdown",
   "id": "beb5a76a",
   "metadata": {},
   "source": [
    "## 1.1 Conceito de Problema"
   ]
  },
  {
   "cell_type": "markdown",
   "id": "ab45ea5e",
   "metadata": {},
   "source": [
    "Iremos tratar de forma introdutória o conceito e os componentes de um problema em Inteligência Artificial.\n",
    "Dentre os elementos que compõem um problema, temos:\n",
    "\n",
    "* **Estado Inicial:** é o estado em que um agente se encontra em um determinado momento.\n",
    "* **Estado Final (Objetivo):** é o estado onde se quer chegar.\n",
    "* **Espaço de Estados:** é o conjunto de estados que se encontram entre o Estado Inicial e o Estado Final. Temos entre estes dois uma série de caminhos a serem tomados. O espaço de estados compreende quais deles iremos tomar para resolver o problema.\n",
    "* **Ações:** que faz com que o agente passe de um estado para o outro. Este executa uma ação que o faz mudar de estado.\n",
    "* **Solução:** neste caso é o caminho que leva um agente do estado inicial para o final.\n",
    "\n",
    "Na **Figura 1** temos como  *Estado Inicial* o quadrado (2,0); como *Estado Final* o quadrado (0,3) e o *Espaço de Estados* todos os outros (exceto a barreira representada em (1,1)).\n",
    "\n",
    "> Um algoritmo de busca inteligente busca encontrar qual o melhor caminho que está no espaço de estados para se chegar de um estado inicial até um estado final.\n",
    "\n",
    "| ![problem](img/problema-1.png) |\n",
    "|:--:|\n",
    "| <b>Figura 1 - Representação de Estados em um cenário.</b>|\n",
    "\n",
    "> É importante salientar que, independente do problema que estamos tratando, temos os elementos citados anteriormente.\n",
    "\n",
    "A **Figura 2** mostra uma *árvore de busca* com os caminhos possíveis para alcançar o estado final da **Figura 1** partindo do estado inicial. Note que cada estado é expandido com os estados alcançáveis a partir dele.\n",
    "\n",
    "| ![resolucao](img/resolução-1.png) |\n",
    "|:--:|\n",
    "| <b>Figura 2 - Caminhos existentes entre o estado inicial e o final.</b>|"
   ]
  },
  {
   "cell_type": "markdown",
   "id": "beb05aed",
   "metadata": {},
   "source": [
    "## 1.2 Implementação de um Problema - Mapa de Cidades\n",
    "\n",
    "Vamos tratar nessa seção a implementação do mapa ilustrado na **Figura 3**, que contém algumas rotas de cidades do sul de Minas Gerais para São Paulo.\n",
    "\n",
    "| ![mapa](img/mapa.png) |\n",
    "|:--:|\n",
    "| <b>Figura 3 - Mapa parcial de cidades da Romênia.</b>|\n",
    "\n",
    "Na implementação vamos representar as cidades e suas ligações. A classe Cidade contém como atributos nome (que é o nome de uma cidade), visitado que inicialmente é definido como False (posteriormente será utilizado para o algoritmo de busca a fim de controlar se um estado foi visitado ou não para evitar que este seja visitado novamente) e uma lista de cidades adjacentes (vizinhas) a esta cidade. Tomando a figura anterior, a cidade **Itajubá** tem como cidades adjacentes: Piranguinho, Piranguçu e Delfim Moreira. O método *addCidadeAdjacente* simplesmente cria a ligação entre uma cidade e outra, preenchendo a lista desta cidade com suas cidades vizinhas (adjacentes). Para isto, temos a classe Adjacente. Ela será utilizada toda vez que quisermos fazer a ligação de uma cidade a outra. A lista de adjacentes de um objeto da classe Cidade terá como elementos um objeto da classe Adjacente. Futuramente esta classe será reutilizada quando tratarmos de algoritmos de busca com heurística."
   ]
  },
  {
   "cell_type": "code",
   "execution_count": 3,
   "id": "e0f73766",
   "metadata": {},
   "outputs": [],
   "source": [
    "class Cidade:\n",
    "    def __init__(self, nome):\n",
    "        self.nome = nome\n",
    "        self.visitado = False\n",
    "        self.adjacentes = []\n",
    "    \n",
    "    def addCidadeAdjacente(self, cidade):\n",
    "        self.adjacentes.append(cidade)"
   ]
  },
  {
   "cell_type": "code",
   "execution_count": 4,
   "id": "4e57ed60",
   "metadata": {},
   "outputs": [],
   "source": [
    "class Adjacente:\n",
    "    def __init__(self, cidade):\n",
    "        self.cidade = cidade"
   ]
  },
  {
   "cell_type": "markdown",
   "id": "d6519cab",
   "metadata": {},
   "source": [
    "A classe a seguir implementa o mapa da Figura 3, criando as cidades e fazendo as ligações necessárias."
   ]
  },
  {
   "cell_type": "code",
   "execution_count": 11,
   "id": "9139eec7",
   "metadata": {},
   "outputs": [],
   "source": [
    "class Mapa:\n",
    "    itajuba = Cidade(\"Itajubá\")\n",
    "    piranguinho = Cidade(\"Piranguinho\")\n",
    "    pirangucu = Cidade(\"Piranguçu\")\n",
    "    delfim = Cidade(\"Delfim Moreira\")\n",
    "    sta_rita = Cidade(\"Santa Rita do Sapucaí\")\n",
    "    campos_jordao = Cidade(\"Campos do Jordão\")\n",
    "    piquete = Cidade(\"Piquete\")\n",
    "    pouso_alegre = Cidade(\"Pouso Alegre\")\n",
    "    sto_pinhal = Cidade(\"Santo Antônio do Pinhal\")\n",
    "    lorena = Cidade(\"Lorena\")\n",
    "    borda_mata = Cidade(\"Borda da Mata\")\n",
    "    estiva = Cidade(\"Estiva\")\n",
    "    tremembe = Cidade(\"Tremembé\")\n",
    "    guaratingueta = Cidade(\"Guaratinguetá\")\n",
    "    ouro_fino = Cidade(\"Ouro Fino\")\n",
    "    cambui = Cidade(\"Cambuí\")\n",
    "    aparecida = Cidade(\"Aparecida\")\n",
    "    taubate = Cidade(\"Taubaté\")\n",
    "    jacutinga = Cidade(\"Jacutinga\")\n",
    "    camanducaia = Cidade(\"Camanducaia\")\n",
    "    cacapava = Cidade(\"Caçapava\")\n",
    "    itapira = Cidade(\"Itapira\")\n",
    "    itapeva = Cidade(\"Itapeva\")\n",
    "    sao_jose = Cidade(\"São José dos Campos\")\n",
    "    amparo = Cidade(\"Amparo\")\n",
    "    extrema = Cidade(\"Extrema\")\n",
    "    bga_paulista = Cidade(\"Bragança Paulista\")\n",
    "    guarulhos = Cidade(\"Guarulhos\")\n",
    "    jaguariuna = Cidade(\"Jaguariúna\")\n",
    "    campinas = Cidade(\"Campinas\")\n",
    "    jundiai = Cidade(\"Jundiaí\")\n",
    "    sao_paulo = Cidade(\"São Paulo\")\n",
    "    \n",
    "    itajuba.addCidadeAdjacente(Adjacente(piranguinho))\n",
    "    itajuba.addCidadeAdjacente(Adjacente(pirangucu))\n",
    "    itajuba.addCidadeAdjacente(Adjacente(delfim))\n",
    "    piranguinho.addCidadeAdjacente(Adjacente(sta_rita))\n",
    "    pirangucu.addCidadeAdjacente(Adjacente(campos_jordao))\n",
    "    delfim.addCidadeAdjacente(Adjacente(piquete))\n",
    "    sta_rita.addCidadeAdjacente(Adjacente(pouso_alegre))\n",
    "    campos_jordao.addCidadeAdjacente(Adjacente(sto_pinhal))\n",
    "    piquete.addCidadeAdjacente(Adjacente(lorena))\n",
    "    pouso_alegre.addCidadeAdjacente(Adjacente(borda_mata))\n",
    "    pouso_alegre.addCidadeAdjacente(Adjacente(estiva))\n",
    "    sto_pinhal.addCidadeAdjacente(Adjacente(tremembe))\n",
    "    lorena.addCidadeAdjacente(Adjacente(guaratingueta))\n",
    "    borda_mata.addCidadeAdjacente(Adjacente(ouro_fino))\n",
    "    estiva.addCidadeAdjacente(Adjacente(cambui))\n",
    "    tremembe.addCidadeAdjacente(Adjacente(taubate))\n",
    "    guaratingueta.addCidadeAdjacente(Adjacente(aparecida))\n",
    "    aparecida.addCidadeAdjacente(Adjacente(taubate))\n",
    "    ouro_fino.addCidadeAdjacente(Adjacente(jacutinga))\n",
    "    cambui.addCidadeAdjacente(Adjacente(camanducaia))\n",
    "    taubate.addCidadeAdjacente(Adjacente(cacapava))\n",
    "    jacutinga.addCidadeAdjacente(Adjacente(itapira))\n",
    "    camanducaia.addCidadeAdjacente(Adjacente(itapeva))\n",
    "    cacapava.addCidadeAdjacente(Adjacente(sao_jose))\n",
    "    itapira.addCidadeAdjacente(Adjacente(amparo))\n",
    "    itapeva.addCidadeAdjacente(Adjacente(extrema))\n",
    "    extrema.addCidadeAdjacente(Adjacente(bga_paulista))\n",
    "    bga_paulista.addCidadeAdjacente(Adjacente(amparo))\n",
    "    sao_jose.addCidadeAdjacente(Adjacente(guarulhos))\n",
    "    bga_paulista.addCidadeAdjacente(Adjacente(guarulhos))\n",
    "    guarulhos.addCidadeAdjacente(Adjacente(sao_paulo))\n",
    "    amparo.addCidadeAdjacente(Adjacente(jaguariuna))\n",
    "    jaguariuna.addCidadeAdjacente(Adjacente(campinas))\n",
    "    campinas.addCidadeAdjacente(Adjacente(jundiai))\n",
    "    jundiai.addCidadeAdjacente(Adjacente(sao_paulo))"
   ]
  },
  {
   "cell_type": "code",
   "execution_count": 12,
   "id": "73ed93b5",
   "metadata": {},
   "outputs": [],
   "source": [
    "mapa = Mapa()"
   ]
  },
  {
   "cell_type": "markdown",
   "id": "c9df51e6",
   "metadata": {},
   "source": [
    "Temos aqui um exemplo da impressão das cidades adjacentes (vizinhas) a *Itajubá*."
   ]
  },
  {
   "cell_type": "code",
   "execution_count": 13,
   "id": "0698f3fc",
   "metadata": {},
   "outputs": [
    {
     "name": "stdout",
     "output_type": "stream",
     "text": [
      "Piranguinho\n",
      "Piranguçu\n",
      "Delfim Moreira\n"
     ]
    }
   ],
   "source": [
    "for i in range(len(mapa.itajuba.adjacentes)):\n",
    "    print(mapa.itajuba.adjacentes[i].cidade.nome)"
   ]
  },
  {
   "cell_type": "markdown",
   "id": "eb9680b3",
   "metadata": {},
   "source": [
    "# 2. Busca sem Informação"
   ]
  },
  {
   "cell_type": "markdown",
   "id": "eab571a0",
   "metadata": {},
   "source": [
    "A Busca sem Informação (também chamada de Busca Cega ou Busca Aleatória) um tipo de busca que não utiliza inteligência. Não há qualquer informação adicional que auxilie o processo de busca, ou seja, não leva em consideração informações sobre o problema. Vamos utilizar a estrutura de **Pilha** que servirá para a implementação do algoritmo de *Busca em Profundidade* e a estrutura de **Fila** para a implementação do algoritmo de *Busca em Largura*.\n",
    "\n",
    "Os algoritmos deste tipo de busca não sabem exatamente por onde tem que ir, partindo do estado inicial até o estado final, pois ele não possui informações sobre o problema.\n",
    "\n",
    "* **Fronteira do Espaço de Estados:** indica quais estados foram expandidos no espaço de estados. No mapa desta seção, suponhamos que queremos ir de *Itajubá* até *São Paulo*. O espaço de estados compreeende todas as cidades que estão entre o estado inicial (Itajubá) e o estado final (São Paulo). A fronteira seriam todas as cidades que foram expandidas neste espaço de estados."
   ]
  },
  {
   "cell_type": "markdown",
   "id": "116b3133",
   "metadata": {},
   "source": [
    "Temos a seguir um algoritmo genérico de busca sem informação:\n",
    "\n",
    "**Algoritmo:**\n",
    "- Atribuir à fronteira (armazena quais cidades serão visitadas; cidades que são adjacentes) o estado inicial.\n",
    "1. Selecionar o primeiro nó da fronteira do espaço de estado.\n",
    "2. Testar se o nó é um estado final (objetivo)\n",
    "    - Caso sim, a busca termina com sucesso\n",
    "3. Gerar um novo conjunto de estados (são as cidades que fazem fronteira)\n",
    "4. Inserir os nós gerados na fronteira e voltar ao passo 1."
   ]
  },
  {
   "cell_type": "markdown",
   "id": "a953b3cd",
   "metadata": {},
   "source": [
    "> O que diferencia a Busca em Profundidade da Busca em Largura é a estrutura de dados utilizada na fronteira. Veremos com mais detalhes essas estruturas nas subseções seguintes."
   ]
  },
  {
   "cell_type": "markdown",
   "id": "beceeee4",
   "metadata": {},
   "source": [
    "## 2.1 Pilha\n",
    "\n",
    "São estruturas de dados do tipo LIFO (*last-in first-out*), onde o último elemento a ser inserido, será o primeiro a ser retirado. Assim, uma pilha permite acesso a apenas um item de dados - o último inserido. Para processar o penúltimo item inserido, deve-se remover o último. Note que a Figura 4 ilustra esse conceito de Pilha e as operações básicas que podem ser aplicadas sobre essa estrutura."
   ]
  },
  {
   "cell_type": "markdown",
   "id": "55280dab",
   "metadata": {},
   "source": [
    "| ![pilha](img/stack.png) |\n",
    "|:--:|\n",
    "| <b>Figura 4 - Exemplo de uma Pilha e suas operações básicas.</b>|"
   ]
  },
  {
   "cell_type": "markdown",
   "id": "1cb3da0b",
   "metadata": {},
   "source": [
    "A Pilha desta forma permite o acesso apenas ao último item inserido, ou seja, o topo da pilha. Se o último item for removido, o item anterior ao último inserido poderá ser acessado. As operações que podem ser aplicadas sobre as Pilhas são:\n",
    "* **Empilhar:** coloca um item de dados no topo da pilha.\n",
    "* **Desempilhar:** remove um item de dados do topo da pilha.\n",
    "* **Ver topo:** mostra o elemento que está no topo da pilha."
   ]
  },
  {
   "cell_type": "markdown",
   "id": "ea8f7445",
   "metadata": {},
   "source": [
    "Vamos realizar a implementação de uma Pilha em Python com suas operações elementares."
   ]
  },
  {
   "cell_type": "code",
   "execution_count": 14,
   "id": "c0cc6d9d",
   "metadata": {},
   "outputs": [],
   "source": [
    "class Pilha:\n",
    "    def __init__(self, tamanho):\n",
    "        self.tamanho = tamanho\n",
    "        self.cidades = [None] * self.tamanho\n",
    "        self.topo = -1\n",
    "    \n",
    "    def empilhar(self, cidade):\n",
    "        if not Pilha.pilhaCheia(self):\n",
    "            self.topo += 1\n",
    "            self.cidades[self.topo] = cidade\n",
    "        else:\n",
    "            print(\"A Pilha já está cheia.\")\n",
    "    \n",
    "    def desempilhar(self):\n",
    "        if not Pilha.pilhaVazia(self):\n",
    "            temp = self.cidades[self.topo]\n",
    "            self.topo -= 1\n",
    "            return temp\n",
    "        else:\n",
    "            print(\"A Pilha já está vazia.\")\n",
    "            return None\n",
    "    \n",
    "    def getTopo(self):\n",
    "        return self.cidades[self.topo]\n",
    "    \n",
    "    def pilhaVazia(self):\n",
    "        return (self.topo == -1)\n",
    "    \n",
    "    def pilhaCheia(self):\n",
    "        return (self.topo == self.tamanho-1)"
   ]
  },
  {
   "cell_type": "markdown",
   "id": "3625dade",
   "metadata": {},
   "source": [
    "## 2.2 Busca em Profundidade (DFS)\n",
    "\n",
    "A Busca em Profundidade (*Depth-First Search*) sempre toma um nó inicial e desce até a profundidade da árvore. A Figura 5 ilustra o caso de uma DFS em uma árvore de busca iniciando-se pelo nó 1."
   ]
  },
  {
   "cell_type": "markdown",
   "id": "90a8bf7a",
   "metadata": {},
   "source": [
    "| ![dfs](img/dfs.jpg) |\n",
    "|:--:|\n",
    "| <b>Figura 5 - Etapas da execução da DFS em uma árvore de busca.</b>|"
   ]
  },
  {
   "cell_type": "markdown",
   "id": "6e3247ce",
   "metadata": {},
   "source": [
    "Como a DFS é um algoritmo de busca sem informação, ela não leva em consideração informações como distância, rotas, caso aplicada para definir um caminho da cidade de Arad até Bucharest no mapa da Figura 3. \n",
    "\n",
    "Na Figura 3, o nó 1 é colocado na pilha, desempilhado e a seguir seus nós adjacentes são empilhados. Retira-se o nó que está no topo da pilha (no caso o nó 2) e seus nós adjancentes (4 e 5) são empilhados. Ao chegar no nó 4, não há nó adjacente para ser empilhado. Neste caso, é desempilhado o nó 5 que atualmente é o topo da Pilha. Como não há nós adjacentes, o passo é repetido. "
   ]
  },
  {
   "cell_type": "markdown",
   "id": "fc94764c",
   "metadata": {},
   "source": [
    "### 2.2.1 Implementação da DFS"
   ]
  },
  {
   "cell_type": "code",
   "execution_count": 15,
   "id": "0b1af975",
   "metadata": {},
   "outputs": [],
   "source": [
    "class Profundidade:\n",
    "    def __init__(self, inicio, objetivo):\n",
    "        self.inicio = inicio\n",
    "        self.inicio.visitado = True\n",
    "        self.objetivo = objetivo\n",
    "        self.fronteira = Pilha(20)\n",
    "        self.fronteira.empilhar(inicio)\n",
    "        self.achou = False\n",
    "    \n",
    "    def buscar(self):\n",
    "        topo = self.fronteira.getTopo()\n",
    "        print('Topo: {}'.format(topo.nome))\n",
    "        \n",
    "        if topo == self.objetivo:\n",
    "            achou = True\n",
    "        else:\n",
    "            for a in topo.adjacentes:\n",
    "                if self.achou == False:\n",
    "                    print('Verificando se já visitado: {}'.format(a.cidade.nome))\n",
    "                    if a.cidade.visitado == False:\n",
    "                        a.cidade.visitado = True\n",
    "                        self.fronteira.empilhar(a.cidade)\n",
    "                        Profundidade.buscar(self)\n",
    "        print('Desempilhou: {}'.format(self.fronteira.desempilhar().nome))"
   ]
  },
  {
   "cell_type": "code",
   "execution_count": 16,
   "id": "6f988be2",
   "metadata": {},
   "outputs": [
    {
     "name": "stdout",
     "output_type": "stream",
     "text": [
      "Topo: Itajubá\n",
      "Verificando se já visitado: Piranguinho\n",
      "Topo: Piranguinho\n",
      "Verificando se já visitado: Santa Rita do Sapucaí\n",
      "Topo: Santa Rita do Sapucaí\n",
      "Verificando se já visitado: Pouso Alegre\n",
      "Topo: Pouso Alegre\n",
      "Verificando se já visitado: Borda da Mata\n",
      "Topo: Borda da Mata\n",
      "Verificando se já visitado: Ouro Fino\n",
      "Topo: Ouro Fino\n",
      "Verificando se já visitado: Jacutinga\n",
      "Topo: Jacutinga\n",
      "Verificando se já visitado: Itapira\n",
      "Topo: Itapira\n",
      "Verificando se já visitado: Amparo\n",
      "Topo: Amparo\n",
      "Verificando se já visitado: Jaguariúna\n",
      "Topo: Jaguariúna\n",
      "Verificando se já visitado: Campinas\n",
      "Topo: Campinas\n",
      "Verificando se já visitado: Jundiaí\n",
      "Topo: Jundiaí\n",
      "Verificando se já visitado: São Paulo\n",
      "Topo: São Paulo\n",
      "Desempilhou: São Paulo\n",
      "Desempilhou: Jundiaí\n",
      "Desempilhou: Campinas\n",
      "Desempilhou: Jaguariúna\n",
      "Desempilhou: Amparo\n",
      "Desempilhou: Itapira\n",
      "Desempilhou: Jacutinga\n",
      "Desempilhou: Ouro Fino\n",
      "Desempilhou: Borda da Mata\n",
      "Verificando se já visitado: Estiva\n",
      "Topo: Estiva\n",
      "Verificando se já visitado: Cambuí\n",
      "Topo: Cambuí\n",
      "Verificando se já visitado: Camanducaia\n",
      "Topo: Camanducaia\n",
      "Verificando se já visitado: Itapeva\n",
      "Topo: Itapeva\n",
      "Verificando se já visitado: Extrema\n",
      "Topo: Extrema\n",
      "Verificando se já visitado: Bragança Paulista\n",
      "Topo: Bragança Paulista\n",
      "Verificando se já visitado: Amparo\n",
      "Verificando se já visitado: Guarulhos\n",
      "Topo: Guarulhos\n",
      "Verificando se já visitado: São Paulo\n",
      "Desempilhou: Guarulhos\n",
      "Desempilhou: Bragança Paulista\n",
      "Desempilhou: Extrema\n",
      "Desempilhou: Itapeva\n",
      "Desempilhou: Camanducaia\n",
      "Desempilhou: Cambuí\n",
      "Desempilhou: Estiva\n",
      "Desempilhou: Pouso Alegre\n",
      "Desempilhou: Santa Rita do Sapucaí\n",
      "Desempilhou: Piranguinho\n",
      "Verificando se já visitado: Piranguçu\n",
      "Topo: Piranguçu\n",
      "Verificando se já visitado: Campos do Jordão\n",
      "Topo: Campos do Jordão\n",
      "Verificando se já visitado: Santo Antônio do Pinhal\n",
      "Topo: Santo Antônio do Pinhal\n",
      "Verificando se já visitado: Tremembé\n",
      "Topo: Tremembé\n",
      "Verificando se já visitado: Taubaté\n",
      "Topo: Taubaté\n",
      "Verificando se já visitado: Caçapava\n",
      "Topo: Caçapava\n",
      "Verificando se já visitado: São José dos Campos\n",
      "Topo: São José dos Campos\n",
      "Verificando se já visitado: Guarulhos\n",
      "Desempilhou: São José dos Campos\n",
      "Desempilhou: Caçapava\n",
      "Desempilhou: Taubaté\n",
      "Desempilhou: Tremembé\n",
      "Desempilhou: Santo Antônio do Pinhal\n",
      "Desempilhou: Campos do Jordão\n",
      "Desempilhou: Piranguçu\n",
      "Verificando se já visitado: Delfim Moreira\n",
      "Topo: Delfim Moreira\n",
      "Verificando se já visitado: Piquete\n",
      "Topo: Piquete\n",
      "Verificando se já visitado: Lorena\n",
      "Topo: Lorena\n",
      "Verificando se já visitado: Guaratinguetá\n",
      "Topo: Guaratinguetá\n",
      "Verificando se já visitado: Aparecida\n",
      "Topo: Aparecida\n",
      "Verificando se já visitado: Taubaté\n",
      "Desempilhou: Aparecida\n",
      "Desempilhou: Guaratinguetá\n",
      "Desempilhou: Lorena\n",
      "Desempilhou: Piquete\n",
      "Desempilhou: Delfim Moreira\n",
      "Desempilhou: Itajubá\n"
     ]
    }
   ],
   "source": [
    "mapa = Mapa()\n",
    "profundidade = Profundidade(mapa.itajuba, mapa.sao_paulo)\n",
    "profundidade.buscar()"
   ]
  },
  {
   "cell_type": "code",
   "execution_count": null,
   "id": "db6d87ce",
   "metadata": {},
   "outputs": [],
   "source": []
  }
 ],
 "metadata": {
  "kernelspec": {
   "display_name": "Python 3",
   "language": "python",
   "name": "python3"
  },
  "language_info": {
   "codemirror_mode": {
    "name": "ipython",
    "version": 3
   },
   "file_extension": ".py",
   "mimetype": "text/x-python",
   "name": "python",
   "nbconvert_exporter": "python",
   "pygments_lexer": "ipython3",
   "version": "3.8.8"
  }
 },
 "nbformat": 4,
 "nbformat_minor": 5
}
